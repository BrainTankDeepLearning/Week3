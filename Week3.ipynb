{
  "nbformat": 4,
  "nbformat_minor": 0,
  "metadata": {
    "colab": {
      "name": "Week3.ipynb",
      "provenance": [],
      "collapsed_sections": []
    },
    "kernelspec": {
      "name": "python3",
      "display_name": "Python 3"
    },
    "language_info": {
      "name": "python"
    }
  },
  "cells": [
    {
      "cell_type": "markdown",
      "metadata": {
        "id": "QAOVF5w6PG7k"
      },
      "source": [
        "## **Welcome to Week Three of BrainTank Deep Learning:**"
      ]
    },
    {
      "cell_type": "markdown",
      "metadata": {
        "id": "kEjpvQlrPFJ4"
      },
      "source": [
        "Lets get started:\n",
        "\n",
        "---\n",
        "\n",
        "First thing we are going to do is run this piece of code that will download important files for this weeks challenge. Take a look at:\n",
        "\n",
        "1.   model.state"
      ]
    },
    {
      "cell_type": "code",
      "metadata": {
        "id": "8PDPgOCkO9DE",
        "colab": {
          "base_uri": "https://localhost:8080/"
        },
        "outputId": "352133fa-1707-4961-e156-a99281994405"
      },
      "source": [
        "!git clone https://github.com/BrainTankDeepLearning/Week3.git"
      ],
      "execution_count": 2,
      "outputs": [
        {
          "output_type": "stream",
          "name": "stdout",
          "text": [
            "Cloning into 'Week3'...\n",
            "remote: Enumerating objects: 3, done.\u001b[K\n",
            "remote: Counting objects: 100% (3/3), done.\u001b[K\n",
            "remote: Compressing objects: 100% (2/2), done.\u001b[K\n",
            "remote: Total 3 (delta 0), reused 0 (delta 0), pack-reused 0\u001b[K\n",
            "Unpacking objects: 100% (3/3), done.\n"
          ]
        }
      ]
    },
    {
      "cell_type": "markdown",
      "metadata": {
        "id": "fACzhBxePWZ_"
      },
      "source": [
        "Helper Functions:\n",
        "---\n",
        "Here I have provided two helper functions that will help us use and view some of the data we working with. You DO NOT need to edit any of these, but feel free to play around with them."
      ]
    },
    {
      "cell_type": "code",
      "metadata": {
        "id": "9E4c0KM_PVni"
      },
      "source": [
        "import torch\n",
        "from torch.nn import Module\n",
        "import torchvision\n",
        "import numpy as np\n",
        "import csv\n",
        "import matplotlib.pyplot as plt\n",
        "import os\n",
        "import pandas as pd\n",
        "import math\n",
        "import sys\n",
        "\n",
        "random_seed = 3\n",
        "torch.manual_seed(random_seed)\n",
        "\n",
        "import random\n",
        "random.seed(0)\n",
        "\n",
        "def get_datasets(batch_size = 9):\n",
        "  train_loader = torch.utils.data.DataLoader(\n",
        "    torchvision.datasets.MNIST('/files/', train=True, download=True,\n",
        "                              transform=torchvision.transforms.Compose([\n",
        "                                torchvision.transforms.ToTensor(),\n",
        "                                torchvision.transforms.Normalize(\n",
        "                                  (0.1307,), (0.3081,))\n",
        "                              ])),\n",
        "    batch_size=batch_size, shuffle=False, drop_last = True)\n",
        "\n",
        "  test_loader = torch.utils.data.DataLoader(\n",
        "    torchvision.datasets.MNIST('/files/', train=False, download=True,\n",
        "                              transform=torchvision.transforms.Compose([\n",
        "                                torchvision.transforms.ToTensor(),\n",
        "                                torchvision.transforms.Normalize(\n",
        "                                  (0.1307,), (0.3081,))\n",
        "                              ])),\n",
        "    batch_size=batch_size, shuffle=False, drop_last = True)\n",
        "  \n",
        "\n",
        "  \n",
        "  return train_loader, test_loader\n",
        "\n",
        "def print_image(image, target = None, prediction = None):\n",
        "  # settings\n",
        "  h, w = 26, 26        # for raster image\n",
        "  nrows, ncols = 3, 3  # array of sub-plots\n",
        "  figsize = [6, 8]     # figure size, inches\n",
        "\n",
        "  # create figure (fig), and array of axes (ax)\n",
        "  fig, ax = plt.subplots(nrows=nrows, ncols=ncols, figsize=figsize)\n",
        "\n",
        "  # plot simple raster image on each sub-plot\n",
        "  for i, axi in enumerate(ax.flat):\n",
        "    if i >= nrows * ncols:\n",
        "      break\n",
        "    # i runs from 0 to (nrows*ncols-1)\n",
        "    # axi is equivalent with ax[rowid][colid]\n",
        "    img = image[i]\n",
        "    axi.imshow(img.squeeze(), alpha=0.25)\n",
        "    # get indices of row/column\n",
        "    rowid = i // ncols\n",
        "    colid = i % ncols\n",
        "    # write row/col indices as axes' title for identification\n",
        "    if prediction is None and target is not None:\n",
        "      axi.set_title(\"Target:\"+str(target[i].item()))\n",
        "    if prediction is not None and target is None:\n",
        "      axi.set_title(\"Prediction:\" + str(prediction[i].item()))\n",
        "    if prediction is not None and target is not None:\n",
        "      axi.set_title(\"Target:\"+str(target[i].item())+\" Prediction:\" + str(prediction[i].item()))\n",
        "\n",
        "  plt.tight_layout(True)\n",
        "  plt.show()\n",
        "\n",
        "def create_one_hot(labels):\n",
        "  out = torch.empty(size = (len(labels), 10))\n",
        "  for i, label in enumerate(labels):\n",
        "    one_hot = torch.zeros(10)\n",
        "    one_hot[label.item()] = 1\n",
        "    out[i] = one_hot\n",
        "  return out\n",
        "\n",
        "def softmax_loss(prediction, one_hot):\n",
        "  prediction = torch.log(prediction)\n",
        "\n",
        "  target = torch.empty(size = (len(one_hot), ), dtype = torch.long)\n",
        "  for i, row in enumerate(one_hot):\n",
        "    index = (row == 1).nonzero(as_tuple=True)[0]\n",
        "    target[i] = index.item()\n",
        "\n",
        "  loss = torch.nn.functional.nll_loss(prediction, target)\n",
        "\n",
        "  return loss"
      ],
      "execution_count": 3,
      "outputs": []
    },
    {
      "cell_type": "markdown",
      "metadata": {
        "id": "8_zTpVwGPaxl"
      },
      "source": [
        "# Our Tasks:\n",
        "\n",
        "---\n",
        "\n",
        "**1.   Create our own Neural Network Layer class**\n",
        "\n",
        "Helpful Formula for calculate a forward propagation:\n",
        "\n",
        "*   out = in * A^t + b\n",
        "\n",
        "**2.   Create a neural network that we can use to predict the label associated with a image's pixel values**\n",
        "\n",
        "*   Our model will take in a batch of images as inputs and output vector of length 10 with percent values associated with the liklihood it thinks a picture belongs to it's corresponding label\n",
        "\n",
        "**3.   Devize a strategy to test our network and see if it is doin a good or bad job prediciting labels**\n",
        "\n",
        "**4. Save and load our model to prevent needing to retrain the model every time we want to test**"
      ]
    },
    {
      "cell_type": "code",
      "metadata": {
        "colab": {
          "base_uri": "https://localhost:8080/"
        },
        "id": "jSkO7rqIP6tg",
        "outputId": "61611617-41fe-48b1-e90e-a3e89acc58a8"
      },
      "source": [
        "class NeuralNetworkLayer(torch.nn.Module):\n",
        "  def __init__(self, input_layers : int, output_layers : int):\n",
        "    super(NeuralNetworkLayer, self).__init__()\n",
        "    pass\n",
        "\n",
        "  def forward(self, input_activation):\n",
        "    pass\n",
        "\n",
        "class ScoreClassifier(torch.nn.Module):\n",
        "  def __init__(self):\n",
        "    super(ScoreClassifier, self).__init__()\n",
        "    pass\n",
        "\n",
        "  def forward(self, image):\n",
        "    pass\n",
        "\n",
        "def train(model, train_dataset, optim):\n",
        "  pass\n",
        "\n",
        "\n",
        "def test(model, test_dataset):\n",
        "  pass\n",
        "\n",
        "if __name__ == \"__main__\":\n",
        "  pass"
      ],
      "execution_count": 11,
      "outputs": [
        {
          "output_type": "stream",
          "name": "stdout",
          "text": [
            "Hello\n"
          ]
        }
      ]
    }
  ]
}